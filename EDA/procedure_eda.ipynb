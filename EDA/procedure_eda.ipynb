{
 "cells": [
  {
   "cell_type": "code",
   "execution_count": 2,
   "metadata": {
    "collapsed": true
   },
   "outputs": [],
   "source": [
    "import pandas as pd"
   ]
  },
  {
   "cell_type": "code",
   "execution_count": 3,
   "metadata": {
    "collapsed": false
   },
   "outputs": [],
   "source": [
    "df = pd.read_csv('/Users/clayton.schupp/cwschupp/project/data/tmp/procedure.tsv', sep='\\t')"
   ]
  },
  {
   "cell_type": "code",
   "execution_count": 4,
   "metadata": {
    "collapsed": false
   },
   "outputs": [
    {
     "data": {
      "text/plain": [
       "Index([u'procedure_id', u'patient_id', u'visit_id', u'diagnosis_id', u'visit_date', u'plan_date', u'order_only', u'dynamic_procedure', u'dynamic_procedure_type', u'follow_up_unit', u'follow_up_value', u'global_period', u'log_result', u'pathology_req', u'procedure_alias', u'procedure_name', u'risk_category', u'risk_level', u'work_up', u'allow_for_25_modifier', u'procedure_short_alias', u'medical_domain', u'previous_plan', u'procedure_log', u'test_log', u'scheduling_log', u'alias_exam', u'guidance_separate_report', u'separate_report', u'separate_identifiable', u'cpoe_type', u'labs_enabled', u'loinc_num', u'data_point_clinical_lab', u'data_point_decision_old_record', u'data_point_discuss_test', u'data_point_independent_review', u'data_point_medicine', u'data_point_rad', u'data_point_review_old_record', u'pod'], dtype='object')"
      ]
     },
     "execution_count": 4,
     "metadata": {},
     "output_type": "execute_result"
    }
   ],
   "source": [
    "df.columns"
   ]
  },
  {
   "cell_type": "code",
   "execution_count": 5,
   "metadata": {
    "collapsed": false
   },
   "outputs": [
    {
     "data": {
      "text/html": [
       "<div style=\"max-height:1000px;max-width:1500px;overflow:auto;\">\n",
       "<table border=\"1\" class=\"dataframe\">\n",
       "  <thead>\n",
       "    <tr style=\"text-align: right;\">\n",
       "      <th></th>\n",
       "      <th>procedure_id</th>\n",
       "      <th>patient_id</th>\n",
       "      <th>visit_id</th>\n",
       "      <th>diagnosis_id</th>\n",
       "      <th>visit_date</th>\n",
       "      <th>plan_date</th>\n",
       "      <th>order_only</th>\n",
       "      <th>dynamic_procedure</th>\n",
       "      <th>dynamic_procedure_type</th>\n",
       "      <th>follow_up_unit</th>\n",
       "      <th>...</th>\n",
       "      <th>labs_enabled</th>\n",
       "      <th>loinc_num</th>\n",
       "      <th>data_point_clinical_lab</th>\n",
       "      <th>data_point_decision_old_record</th>\n",
       "      <th>data_point_discuss_test</th>\n",
       "      <th>data_point_independent_review</th>\n",
       "      <th>data_point_medicine</th>\n",
       "      <th>data_point_rad</th>\n",
       "      <th>data_point_review_old_record</th>\n",
       "      <th>pod</th>\n",
       "    </tr>\n",
       "  </thead>\n",
       "  <tbody>\n",
       "    <tr>\n",
       "      <th>0</th>\n",
       "      <td> 40561043</td>\n",
       "      <td> 16247358</td>\n",
       "      <td> 12368533</td>\n",
       "      <td> 29068088</td>\n",
       "      <td> 2014-06-23 12:00:00</td>\n",
       "      <td>NaN</td>\n",
       "      <td> False</td>\n",
       "      <td>  True</td>\n",
       "      <td>   surgery</td>\n",
       "      <td> week</td>\n",
       "      <td>...</td>\n",
       "      <td> False</td>\n",
       "      <td>NaN</td>\n",
       "      <td> False</td>\n",
       "      <td> False</td>\n",
       "      <td> False</td>\n",
       "      <td> False</td>\n",
       "      <td> False</td>\n",
       "      <td> False</td>\n",
       "      <td> False</td>\n",
       "      <td> pod03_ema</td>\n",
       "    </tr>\n",
       "    <tr>\n",
       "      <th>1</th>\n",
       "      <td> 40561048</td>\n",
       "      <td> 13535840</td>\n",
       "      <td> 12368406</td>\n",
       "      <td> 29068096</td>\n",
       "      <td> 2014-06-23 12:00:00</td>\n",
       "      <td>NaN</td>\n",
       "      <td> False</td>\n",
       "      <td>  True</td>\n",
       "      <td> treatment</td>\n",
       "      <td>  NaN</td>\n",
       "      <td>...</td>\n",
       "      <td> False</td>\n",
       "      <td>NaN</td>\n",
       "      <td> False</td>\n",
       "      <td> False</td>\n",
       "      <td> False</td>\n",
       "      <td> False</td>\n",
       "      <td> False</td>\n",
       "      <td> False</td>\n",
       "      <td> False</td>\n",
       "      <td> pod03_ema</td>\n",
       "    </tr>\n",
       "    <tr>\n",
       "      <th>2</th>\n",
       "      <td> 40561052</td>\n",
       "      <td> 16146902</td>\n",
       "      <td> 12368204</td>\n",
       "      <td> 29068118</td>\n",
       "      <td> 2014-06-23 12:00:00</td>\n",
       "      <td>NaN</td>\n",
       "      <td> False</td>\n",
       "      <td> False</td>\n",
       "      <td>       NaN</td>\n",
       "      <td>  NaN</td>\n",
       "      <td>...</td>\n",
       "      <td> False</td>\n",
       "      <td>NaN</td>\n",
       "      <td> False</td>\n",
       "      <td> False</td>\n",
       "      <td> False</td>\n",
       "      <td> False</td>\n",
       "      <td> False</td>\n",
       "      <td> False</td>\n",
       "      <td> False</td>\n",
       "      <td> pod03_ema</td>\n",
       "    </tr>\n",
       "    <tr>\n",
       "      <th>3</th>\n",
       "      <td> 40561053</td>\n",
       "      <td> 16146902</td>\n",
       "      <td> 12368204</td>\n",
       "      <td> 29068118</td>\n",
       "      <td> 2014-06-23 12:00:00</td>\n",
       "      <td>NaN</td>\n",
       "      <td> False</td>\n",
       "      <td>  True</td>\n",
       "      <td>       NaN</td>\n",
       "      <td>  NaN</td>\n",
       "      <td>...</td>\n",
       "      <td> False</td>\n",
       "      <td>NaN</td>\n",
       "      <td>   NaN</td>\n",
       "      <td>   NaN</td>\n",
       "      <td>   NaN</td>\n",
       "      <td>   NaN</td>\n",
       "      <td>   NaN</td>\n",
       "      <td>   NaN</td>\n",
       "      <td>   NaN</td>\n",
       "      <td> pod03_ema</td>\n",
       "    </tr>\n",
       "    <tr>\n",
       "      <th>4</th>\n",
       "      <td> 40561054</td>\n",
       "      <td> 13535840</td>\n",
       "      <td> 12368406</td>\n",
       "      <td> 29068096</td>\n",
       "      <td> 2014-06-23 12:00:00</td>\n",
       "      <td>NaN</td>\n",
       "      <td> False</td>\n",
       "      <td>  True</td>\n",
       "      <td>       NaN</td>\n",
       "      <td>  NaN</td>\n",
       "      <td>...</td>\n",
       "      <td> False</td>\n",
       "      <td>NaN</td>\n",
       "      <td>   NaN</td>\n",
       "      <td>   NaN</td>\n",
       "      <td>   NaN</td>\n",
       "      <td>   NaN</td>\n",
       "      <td>   NaN</td>\n",
       "      <td>   NaN</td>\n",
       "      <td>   NaN</td>\n",
       "      <td> pod03_ema</td>\n",
       "    </tr>\n",
       "  </tbody>\n",
       "</table>\n",
       "<p>5 rows × 41 columns</p>\n",
       "</div>"
      ],
      "text/plain": [
       "   procedure_id  patient_id  visit_id  diagnosis_id           visit_date  \\\n",
       "0      40561043    16247358  12368533      29068088  2014-06-23 12:00:00   \n",
       "1      40561048    13535840  12368406      29068096  2014-06-23 12:00:00   \n",
       "2      40561052    16146902  12368204      29068118  2014-06-23 12:00:00   \n",
       "3      40561053    16146902  12368204      29068118  2014-06-23 12:00:00   \n",
       "4      40561054    13535840  12368406      29068096  2014-06-23 12:00:00   \n",
       "\n",
       "   plan_date order_only dynamic_procedure dynamic_procedure_type  \\\n",
       "0        NaN      False              True                surgery   \n",
       "1        NaN      False              True              treatment   \n",
       "2        NaN      False             False                    NaN   \n",
       "3        NaN      False              True                    NaN   \n",
       "4        NaN      False              True                    NaN   \n",
       "\n",
       "  follow_up_unit      ...        labs_enabled  loinc_num  \\\n",
       "0           week      ...               False        NaN   \n",
       "1            NaN      ...               False        NaN   \n",
       "2            NaN      ...               False        NaN   \n",
       "3            NaN      ...               False        NaN   \n",
       "4            NaN      ...               False        NaN   \n",
       "\n",
       "  data_point_clinical_lab data_point_decision_old_record  \\\n",
       "0                   False                          False   \n",
       "1                   False                          False   \n",
       "2                   False                          False   \n",
       "3                     NaN                            NaN   \n",
       "4                     NaN                            NaN   \n",
       "\n",
       "  data_point_discuss_test data_point_independent_review data_point_medicine  \\\n",
       "0                   False                         False               False   \n",
       "1                   False                         False               False   \n",
       "2                   False                         False               False   \n",
       "3                     NaN                           NaN                 NaN   \n",
       "4                     NaN                           NaN                 NaN   \n",
       "\n",
       "  data_point_rad data_point_review_old_record        pod  \n",
       "0          False                        False  pod03_ema  \n",
       "1          False                        False  pod03_ema  \n",
       "2          False                        False  pod03_ema  \n",
       "3            NaN                          NaN  pod03_ema  \n",
       "4            NaN                          NaN  pod03_ema  \n",
       "\n",
       "[5 rows x 41 columns]"
      ]
     },
     "execution_count": 5,
     "metadata": {},
     "output_type": "execute_result"
    }
   ],
   "source": [
    "df.head()"
   ]
  },
  {
   "cell_type": "code",
   "execution_count": null,
   "metadata": {
    "collapsed": true
   },
   "outputs": [],
   "source": []
  }
 ],
 "metadata": {
  "kernelspec": {
   "display_name": "Python 2",
   "language": "python",
   "name": "python2"
  },
  "language_info": {
   "codemirror_mode": {
    "name": "ipython",
    "version": 2
   },
   "file_extension": ".py",
   "mimetype": "text/x-python",
   "name": "python",
   "nbconvert_exporter": "python",
   "pygments_lexer": "ipython2",
   "version": "2.7.9"
  }
 },
 "nbformat": 4,
 "nbformat_minor": 0
}
