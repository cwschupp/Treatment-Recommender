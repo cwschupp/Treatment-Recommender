{
 "cells": [
  {
   "cell_type": "code",
   "execution_count": 1,
   "metadata": {
    "collapsed": true
   },
   "outputs": [],
   "source": [
    "import pandas as pd"
   ]
  },
  {
   "cell_type": "code",
   "execution_count": 2,
   "metadata": {
    "collapsed": false
   },
   "outputs": [],
   "source": [
    "df = pd.read_csv('/Users/clayton.schupp/cwschupp/project/data/tmp/procedure.tsv', sep='\\t')"
   ]
  },
  {
   "cell_type": "code",
   "execution_count": 3,
   "metadata": {
    "collapsed": false
   },
   "outputs": [
    {
     "data": {
      "text/plain": [
       "Index([u'procedure_id', u'patient_id', u'visit_id', u'diagnosis_id', u'visit_date', u'plan_date', u'order_only', u'dynamic_procedure', u'dynamic_procedure_type', u'follow_up_unit', u'follow_up_value', u'global_period', u'log_result', u'pathology_req', u'procedure_alias', u'procedure_name', u'risk_category', u'risk_level', u'work_up', u'allow_for_25_modifier', u'procedure_short_alias', u'medical_domain', u'previous_plan', u'procedure_log', u'test_log', u'scheduling_log', u'alias_exam', u'guidance_separate_report', u'separate_report', u'separate_identifiable', u'cpoe_type', u'labs_enabled', u'loinc_num', u'data_point_clinical_lab', u'data_point_decision_old_record', u'data_point_discuss_test', u'data_point_independent_review', u'data_point_medicine', u'data_point_rad', u'data_point_review_old_record', u'pod'], dtype='object')"
      ]
     },
     "execution_count": 3,
     "metadata": {},
     "output_type": "execute_result"
    }
   ],
   "source": [
    "df.columns"
   ]
  },
  {
   "cell_type": "code",
   "execution_count": null,
   "metadata": {
    "collapsed": false
   },
   "outputs": [],
   "source": []
  },
  {
   "cell_type": "code",
   "execution_count": null,
   "metadata": {
    "collapsed": true
   },
   "outputs": [],
   "source": []
  }
 ],
 "metadata": {
  "kernelspec": {
   "display_name": "Python 2",
   "language": "python",
   "name": "python2"
  },
  "language_info": {
   "codemirror_mode": {
    "name": "ipython",
    "version": 2
   },
   "file_extension": ".py",
   "mimetype": "text/x-python",
   "name": "python",
   "nbconvert_exporter": "python",
   "pygments_lexer": "ipython2",
   "version": "2.7.9"
  }
 },
 "nbformat": 4,
 "nbformat_minor": 0
}
