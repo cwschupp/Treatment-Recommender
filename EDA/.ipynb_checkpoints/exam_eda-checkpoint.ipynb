{
 "cells": [
  {
   "cell_type": "code",
   "execution_count": 2,
   "metadata": {
    "collapsed": true
   },
   "outputs": [],
   "source": [
    "import pandas as pd"
   ]
  },
  {
   "cell_type": "code",
   "execution_count": 4,
   "metadata": {
    "collapsed": false
   },
   "outputs": [],
   "source": [
    "dx = pd.read_csv('/Users/clayton.schupp/cwschupp/project/data/tmp/diagnosis.tsv', sep='\\t')"
   ]
  },
  {
   "cell_type": "code",
   "execution_count": 5,
   "metadata": {
    "collapsed": false
   },
   "outputs": [
    {
     "data": {
      "text/plain": [
       "Index([u'diagnosis_id', u'patient_id', u'visit_id', u'visit_date', u'diagnosis_status', u'is_new', u'is_ruleout', u'position', u'is_existing_with_new_problem', u'complexity_level', u'default_weight', u'diagnosis_name', u'diagnosis_type', u'follow_up_unit', u'follow_up_value', u'label_text', u'icd9', u'icd10', u'exam_finding', u'medical_domain', u'special_diagnosis_type', u'visible', u'pod'], dtype='object')"
      ]
     },
     "execution_count": 5,
     "metadata": {},
     "output_type": "execute_result"
    }
   ],
   "source": [
    "dx.columns"
   ]
  },
  {
   "cell_type": "code",
   "execution_count": 10,
   "metadata": {
    "collapsed": false
   },
   "outputs": [
    {
     "data": {
      "text/plain": [
       "array(['neoplasm', 'infection', 'rash', 'v-codes', 'pruritus',\n",
       "       'hair-nail-mucosa', 'descriptive', 'pediatric', 'retina',\n",
       "       'refractive', 'external', 'lens', 'glaucoma', 'autoimmune', 'knee',\n",
       "       'icd10', 'misc', 'surgery', 'genoderm', 'cosmetic', 'cornea',\n",
       "       'postop', 'uveitis', 'ankle', 'wound care', 'trauma', 'orbit',\n",
       "       'allergy', 'cosmetic abdomen', 'foot', 'breast', 'neuro', 'hand',\n",
       "       'wrist', 'spine', 'dermatology - pediatric', 'eyes', 'shoulder',\n",
       "       'nerve', 'cosmetic face', 'cosmetic breast', 'hip', 'clavicle',\n",
       "       'joint', 'ribs', 'complications', 'cosmetic eyes', 'trunk',\n",
       "       'cosmetic ent', 'v-code', 'psych', 'pelvis', 'elbow', 'lowerleg',\n",
       "       'upperarm', 'tumor-metabolic'], dtype=object)"
      ]
     },
     "execution_count": 10,
     "metadata": {},
     "output_type": "execute_result"
    }
   ],
   "source": [
    "dx.diagnosis_type.unique()"
   ]
  },
  {
   "cell_type": "code",
   "execution_count": 11,
   "metadata": {
    "collapsed": false
   },
   "outputs": [
    {
     "data": {
      "text/plain": [
       "0     False\n",
       "1     False\n",
       "2     False\n",
       "3     False\n",
       "4     False\n",
       "5     False\n",
       "6     False\n",
       "7     False\n",
       "8     False\n",
       "9     False\n",
       "10    False\n",
       "11    False\n",
       "12    False\n",
       "13    False\n",
       "14    False\n",
       "...\n",
       "99985    False\n",
       "99986    False\n",
       "99987    False\n",
       "99988    False\n",
       "99989    False\n",
       "99990    False\n",
       "99991    False\n",
       "99992    False\n",
       "99993    False\n",
       "99994    False\n",
       "99995    False\n",
       "99996    False\n",
       "99997    False\n",
       "99998    False\n",
       "99999    False\n",
       "Name: diagnosis_type, Length: 100000, dtype: bool"
      ]
     },
     "execution_count": 11,
     "metadata": {},
     "output_type": "execute_result"
    }
   ],
   "source": [
    "dx.diagnosis_type == 'dermatology - pediatric'"
   ]
  },
  {
   "cell_type": "code",
   "execution_count": null,
   "metadata": {
    "collapsed": true
   },
   "outputs": [],
   "source": []
  }
 ],
 "metadata": {
  "kernelspec": {
   "display_name": "Python 2",
   "language": "python",
   "name": "python2"
  },
  "language_info": {
   "codemirror_mode": {
    "name": "ipython",
    "version": 2
   },
   "file_extension": ".py",
   "mimetype": "text/x-python",
   "name": "python",
   "nbconvert_exporter": "python",
   "pygments_lexer": "ipython2",
   "version": "2.7.9"
  }
 },
 "nbformat": 4,
 "nbformat_minor": 0
}
