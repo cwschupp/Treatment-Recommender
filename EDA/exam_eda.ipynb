{
 "cells": [
  {
   "cell_type": "code",
   "execution_count": 3,
   "metadata": {
    "collapsed": true
   },
   "outputs": [],
   "source": [
    "import pandas as pd"
   ]
  },
  {
   "cell_type": "code",
   "execution_count": 5,
   "metadata": {
    "collapsed": false
   },
   "outputs": [],
   "source": [
    "df = pd.read_csv('/Users/clayton.schupp/cwschupp/project/data/tmp/exam.tsv', sep='\\t')"
   ]
  },
  {
   "cell_type": "code",
   "execution_count": 6,
   "metadata": {
    "collapsed": false
   },
   "outputs": [
    {
     "data": {
      "text/plain": [
       "(100000, 10)"
      ]
     },
     "execution_count": 6,
     "metadata": {},
     "output_type": "execute_result"
    }
   ],
   "source": [
    "df.shape"
   ]
  },
  {
   "cell_type": "code",
   "execution_count": 7,
   "metadata": {
    "collapsed": false
   },
   "outputs": [
    {
     "data": {
      "text/plain": [
       "Index([u'visit_id', u'exam_set', u'medical_domain', u'exam_element', u'exam_system', u'question', u'question_type', u'response_value', u'range_response_value', u'pod'], dtype='object')"
      ]
     },
     "execution_count": 7,
     "metadata": {},
     "output_type": "execute_result"
    }
   ],
   "source": [
    "df.columns"
   ]
  },
  {
   "cell_type": "code",
   "execution_count": 12,
   "metadata": {
    "collapsed": false
   },
   "outputs": [
    {
     "data": {
      "text/html": [
       "<div style=\"max-height:1000px;max-width:1500px;overflow:auto;\">\n",
       "<table border=\"1\" class=\"dataframe\">\n",
       "  <thead>\n",
       "    <tr style=\"text-align: right;\">\n",
       "      <th></th>\n",
       "      <th>visit_id</th>\n",
       "      <th>exam_set</th>\n",
       "      <th>medical_domain</th>\n",
       "      <th>exam_element</th>\n",
       "      <th>exam_system</th>\n",
       "      <th>question</th>\n",
       "      <th>question_type</th>\n",
       "      <th>response_value</th>\n",
       "      <th>range_response_value</th>\n",
       "      <th>pod</th>\n",
       "    </tr>\n",
       "  </thead>\n",
       "  <tbody>\n",
       "    <tr>\n",
       "      <th>0</th>\n",
       "      <td>  2249054</td>\n",
       "      <td> Exam - Above the Waist - Appearance, Orientati...</td>\n",
       "      <td> DERMATOLOGY</td>\n",
       "      <td> Mood and affect</td>\n",
       "      <td> Neurological/Psychiatric</td>\n",
       "      <td> NaN</td>\n",
       "      <td> NaN</td>\n",
       "      <td> NaN</td>\n",
       "      <td>NaN</td>\n",
       "      <td> pod01_ema</td>\n",
       "    </tr>\n",
       "    <tr>\n",
       "      <th>1</th>\n",
       "      <td>  2248743</td>\n",
       "      <td> Exam - Full Skin Detailed - Appearance, Orient...</td>\n",
       "      <td> DERMATOLOGY</td>\n",
       "      <td> Mood and affect</td>\n",
       "      <td> Neurological/Psychiatric</td>\n",
       "      <td> NaN</td>\n",
       "      <td> NaN</td>\n",
       "      <td> NaN</td>\n",
       "      <td>NaN</td>\n",
       "      <td> pod01_ema</td>\n",
       "    </tr>\n",
       "    <tr>\n",
       "      <th>2</th>\n",
       "      <td>  2248743</td>\n",
       "      <td> Exam - Full Skin Detailed - Appearance, Orient...</td>\n",
       "      <td> DERMATOLOGY</td>\n",
       "      <td>            feet</td>\n",
       "      <td>              Other Areas</td>\n",
       "      <td> NaN</td>\n",
       "      <td> NaN</td>\n",
       "      <td> NaN</td>\n",
       "      <td>NaN</td>\n",
       "      <td> pod01_ema</td>\n",
       "    </tr>\n",
       "    <tr>\n",
       "      <th>3</th>\n",
       "      <td> 12169578</td>\n",
       "      <td> Exam - Focused Detailed - Appearance, Orientat...</td>\n",
       "      <td> DERMATOLOGY</td>\n",
       "      <td>           chest</td>\n",
       "      <td>                     Skin</td>\n",
       "      <td> NaN</td>\n",
       "      <td> NaN</td>\n",
       "      <td> NaN</td>\n",
       "      <td>NaN</td>\n",
       "      <td> pod04_ema</td>\n",
       "    </tr>\n",
       "    <tr>\n",
       "      <th>4</th>\n",
       "      <td> 12411057</td>\n",
       "      <td>    Exam - Focused - Appearance, Orientation, Mood</td>\n",
       "      <td> DERMATOLOGY</td>\n",
       "      <td>           chest</td>\n",
       "      <td>                     Skin</td>\n",
       "      <td> NaN</td>\n",
       "      <td> NaN</td>\n",
       "      <td> NaN</td>\n",
       "      <td>NaN</td>\n",
       "      <td> pod04_ema</td>\n",
       "    </tr>\n",
       "  </tbody>\n",
       "</table>\n",
       "</div>"
      ],
      "text/plain": [
       "   visit_id                                           exam_set medical_domain  \\\n",
       "0   2249054  Exam - Above the Waist - Appearance, Orientati...    DERMATOLOGY   \n",
       "1   2248743  Exam - Full Skin Detailed - Appearance, Orient...    DERMATOLOGY   \n",
       "2   2248743  Exam - Full Skin Detailed - Appearance, Orient...    DERMATOLOGY   \n",
       "3  12169578  Exam - Focused Detailed - Appearance, Orientat...    DERMATOLOGY   \n",
       "4  12411057     Exam - Focused - Appearance, Orientation, Mood    DERMATOLOGY   \n",
       "\n",
       "      exam_element               exam_system question question_type  \\\n",
       "0  Mood and affect  Neurological/Psychiatric      NaN           NaN   \n",
       "1  Mood and affect  Neurological/Psychiatric      NaN           NaN   \n",
       "2             feet               Other Areas      NaN           NaN   \n",
       "3            chest                      Skin      NaN           NaN   \n",
       "4            chest                      Skin      NaN           NaN   \n",
       "\n",
       "  response_value  range_response_value        pod  \n",
       "0            NaN                   NaN  pod01_ema  \n",
       "1            NaN                   NaN  pod01_ema  \n",
       "2            NaN                   NaN  pod01_ema  \n",
       "3            NaN                   NaN  pod04_ema  \n",
       "4            NaN                   NaN  pod04_ema  "
      ]
     },
     "execution_count": 12,
     "metadata": {},
     "output_type": "execute_result"
    }
   ],
   "source": [
    "df.head()"
   ]
  },
  {
   "cell_type": "code",
   "execution_count": null,
   "metadata": {
    "collapsed": true
   },
   "outputs": [],
   "source": []
  }
 ],
 "metadata": {
  "kernelspec": {
   "display_name": "Python 2",
   "language": "python",
   "name": "python2"
  },
  "language_info": {
   "codemirror_mode": {
    "name": "ipython",
    "version": 2
   },
   "file_extension": ".py",
   "mimetype": "text/x-python",
   "name": "python",
   "nbconvert_exporter": "python",
   "pygments_lexer": "ipython2",
   "version": "2.7.9"
  }
 },
 "nbformat": 4,
 "nbformat_minor": 0
}
