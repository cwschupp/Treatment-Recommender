{
 "cells": [
  {
   "cell_type": "code",
   "execution_count": 58,
   "metadata": {
    "collapsed": true
   },
   "outputs": [],
   "source": [
    "import pandas as pd\n",
    "import matplotlib.pyplot as plt\n",
    "%matplotlib inline"
   ]
  },
  {
   "cell_type": "code",
   "execution_count": 59,
   "metadata": {
    "collapsed": false
   },
   "outputs": [],
   "source": [
    "df = pd.read_csv('/Users/clayton.schupp/cwschupp/project/data/sample/analysis_dataset.tsv', delimiter='\\t')"
   ]
  },
  {
   "cell_type": "code",
   "execution_count": 60,
   "metadata": {
    "collapsed": false
   },
   "outputs": [
    {
     "data": {
      "text/html": [
       "<div style=\"max-height:1000px;max-width:1500px;overflow:auto;\">\n",
       "<table border=\"1\" class=\"dataframe\">\n",
       "  <thead>\n",
       "    <tr style=\"text-align: right;\">\n",
       "      <th></th>\n",
       "      <th>sex</th>\n",
       "      <th>age</th>\n",
       "      <th>race</th>\n",
       "      <th>smoking</th>\n",
       "      <th>famhist</th>\n",
       "      <th>pga</th>\n",
       "      <th>bsa</th>\n",
       "      <th>trt</th>\n",
       "    </tr>\n",
       "  </thead>\n",
       "  <tbody>\n",
       "    <tr>\n",
       "      <th>0</th>\n",
       "      <td> Female</td>\n",
       "      <td> 41</td>\n",
       "      <td> Unknown</td>\n",
       "      <td>        Unknown</td>\n",
       "      <td>  no</td>\n",
       "      <td> 2</td>\n",
       "      <td> 11</td>\n",
       "      <td>               topical</td>\n",
       "    </tr>\n",
       "    <tr>\n",
       "      <th>1</th>\n",
       "      <td>   Male</td>\n",
       "      <td> 38</td>\n",
       "      <td>   Black</td>\n",
       "      <td>   Never Smoker</td>\n",
       "      <td>  no</td>\n",
       "      <td> 3</td>\n",
       "      <td> 27</td>\n",
       "      <td>              biologic</td>\n",
       "    </tr>\n",
       "    <tr>\n",
       "      <th>2</th>\n",
       "      <td> Female</td>\n",
       "      <td> 35</td>\n",
       "      <td>   White</td>\n",
       "      <td> Current Smoker</td>\n",
       "      <td> yes</td>\n",
       "      <td> 5</td>\n",
       "      <td> 46</td>\n",
       "      <td>     topical, biologic</td>\n",
       "    </tr>\n",
       "    <tr>\n",
       "      <th>3</th>\n",
       "      <td> Female</td>\n",
       "      <td> 66</td>\n",
       "      <td>   Other</td>\n",
       "      <td>        Unknown</td>\n",
       "      <td>  no</td>\n",
       "      <td> 2</td>\n",
       "      <td> 20</td>\n",
       "      <td> topical, phototherapy</td>\n",
       "    </tr>\n",
       "    <tr>\n",
       "      <th>4</th>\n",
       "      <td> Female</td>\n",
       "      <td> 39</td>\n",
       "      <td>   White</td>\n",
       "      <td>   Never Smoker</td>\n",
       "      <td>  no</td>\n",
       "      <td> 3</td>\n",
       "      <td> 17</td>\n",
       "      <td> topical, phototherapy</td>\n",
       "    </tr>\n",
       "  </tbody>\n",
       "</table>\n",
       "</div>"
      ],
      "text/plain": [
       "      sex  age     race         smoking famhist  pga  bsa  \\\n",
       "0  Female   41  Unknown         Unknown      no    2   11   \n",
       "1    Male   38    Black    Never Smoker      no    3   27   \n",
       "2  Female   35    White  Current Smoker     yes    5   46   \n",
       "3  Female   66    Other         Unknown      no    2   20   \n",
       "4  Female   39    White    Never Smoker      no    3   17   \n",
       "\n",
       "                     trt  \n",
       "0                topical  \n",
       "1               biologic  \n",
       "2      topical, biologic  \n",
       "3  topical, phototherapy  \n",
       "4  topical, phototherapy  "
      ]
     },
     "execution_count": 60,
     "metadata": {},
     "output_type": "execute_result"
    }
   ],
   "source": [
    "df.head()"
   ]
  },
  {
   "cell_type": "code",
   "execution_count": 61,
   "metadata": {
    "collapsed": false
   },
   "outputs": [
    {
     "data": {
      "text/plain": [
       "(50794, 8)"
      ]
     },
     "execution_count": 61,
     "metadata": {},
     "output_type": "execute_result"
    }
   ],
   "source": [
    "df.shape"
   ]
  },
  {
   "cell_type": "code",
   "execution_count": 62,
   "metadata": {
    "collapsed": false
   },
   "outputs": [
    {
     "data": {
      "text/plain": [
       "Female    27018\n",
       "Male      23776\n",
       "dtype: int64"
      ]
     },
     "execution_count": 62,
     "metadata": {},
     "output_type": "execute_result"
    }
   ],
   "source": [
    "df.sex.value_counts()"
   ]
  },
  {
   "cell_type": "code",
   "execution_count": 63,
   "metadata": {
    "collapsed": false
   },
   "outputs": [],
   "source": [
    "m=df[df.sex=='Male']\n",
    "f=df[df.sex=='Female']"
   ]
  },
  {
   "cell_type": "code",
   "execution_count": 77,
   "metadata": {
    "collapsed": false
   },
   "outputs": [
    {
     "data": {
      "text/plain": [
       "<matplotlib.text.Text at 0x10f9aaf10>"
      ]
     },
     "execution_count": 77,
     "metadata": {},
     "output_type": "execute_result"
    },
    {
     "data": {
      "image/png": "[encoded data removed]",
      "text/plain": [
       "<matplotlib.figure.Figure at 0x10a10e6d0>"
      ]
     },
     "metadata": {},
     "output_type": "display_data"
    }
   ],
   "source": [
    "plt.figure(1)\n",
    "plt.subplot(131)\n",
    "df.bsa.hist()\n",
    "plt.title('Overall')\n",
    "plt.subplot(132)\n",
    "m.bsa.hist()\n",
    "plt.title('Males')\n",
    "plt.subplot(133)\n",
    "f.bsa.hist()\n",
    "plt.title('Females')"
   ]
  },
  {
   "cell_type": "code",
   "execution_count": 84,
   "metadata": {
    "collapsed": false
   },
   "outputs": [
    {
     "data": {
      "text/html": [
       "<div style=\"max-height:1000px;max-width:1500px;overflow:auto;\">\n",
       "<table border=\"1\" class=\"dataframe\">\n",
       "  <thead>\n",
       "    <tr style=\"text-align: right;\">\n",
       "      <th></th>\n",
       "      <th>2</th>\n",
       "      <th>3</th>\n",
       "      <th>4</th>\n",
       "      <th>5</th>\n",
       "      <th>6</th>\n",
       "    </tr>\n",
       "    <tr>\n",
       "      <th>sex</th>\n",
       "      <th></th>\n",
       "      <th></th>\n",
       "      <th></th>\n",
       "      <th></th>\n",
       "      <th></th>\n",
       "    </tr>\n",
       "  </thead>\n",
       "  <tbody>\n",
       "    <tr>\n",
       "      <th>Female</th>\n",
       "      <td> 0.535693</td>\n",
       "      <td> 0.531168</td>\n",
       "      <td> 0.528051</td>\n",
       "      <td> 0.529549</td>\n",
       "      <td> 0.536321</td>\n",
       "    </tr>\n",
       "    <tr>\n",
       "      <th>Male</th>\n",
       "      <td> 0.464307</td>\n",
       "      <td> 0.468832</td>\n",
       "      <td> 0.471949</td>\n",
       "      <td> 0.470451</td>\n",
       "      <td> 0.463679</td>\n",
       "    </tr>\n",
       "  </tbody>\n",
       "</table>\n",
       "</div>"
      ],
      "text/plain": [
       "               2         3         4         5         6\n",
       "sex                                                     \n",
       "Female  0.535693  0.531168  0.528051  0.529549  0.536321\n",
       "Male    0.464307  0.468832  0.471949  0.470451  0.463679"
      ]
     },
     "execution_count": 84,
     "metadata": {},
     "output_type": "execute_result"
    }
   ],
   "source": [
    "pd.crosstab(df.sex, df.pga)/df.pga.value_counts()"
   ]
  },
  {
   "cell_type": "code",
   "execution_count": 65,
   "metadata": {
    "collapsed": false
   },
   "outputs": [
    {
     "data": {
      "text/plain": [
       "White      36545\n",
       "Unknown     8100\n",
       "Other       3767\n",
       "Black       1302\n",
       "Asian       1080\n",
       "dtype: int64"
      ]
     },
     "execution_count": 65,
     "metadata": {},
     "output_type": "execute_result"
    }
   ],
   "source": [
    "df.race.value_counts()"
   ]
  },
  {
   "cell_type": "code",
   "execution_count": 83,
   "metadata": {
    "collapsed": false
   },
   "outputs": [
    {
     "data": {
      "text/html": [
       "<div style=\"max-height:1000px;max-width:1500px;overflow:auto;\">\n",
       "<table border=\"1\" class=\"dataframe\">\n",
       "  <thead>\n",
       "    <tr style=\"text-align: right;\">\n",
       "      <th></th>\n",
       "      <th>2</th>\n",
       "      <th>3</th>\n",
       "      <th>4</th>\n",
       "      <th>5</th>\n",
       "      <th>6</th>\n",
       "    </tr>\n",
       "    <tr>\n",
       "      <th>race</th>\n",
       "      <th></th>\n",
       "      <th></th>\n",
       "      <th></th>\n",
       "      <th></th>\n",
       "      <th></th>\n",
       "    </tr>\n",
       "  </thead>\n",
       "  <tbody>\n",
       "    <tr>\n",
       "      <th>Asian</th>\n",
       "      <td> 0.022082</td>\n",
       "      <td> 0.020954</td>\n",
       "      <td> 0.021949</td>\n",
       "      <td> 0.019873</td>\n",
       "      <td> 0.019706</td>\n",
       "    </tr>\n",
       "    <tr>\n",
       "      <th>Black</th>\n",
       "      <td> 0.025971</td>\n",
       "      <td> 0.025435</td>\n",
       "      <td> 0.026575</td>\n",
       "      <td> 0.023510</td>\n",
       "      <td> 0.027434</td>\n",
       "    </tr>\n",
       "    <tr>\n",
       "      <th>Other</th>\n",
       "      <td> 0.073891</td>\n",
       "      <td> 0.075975</td>\n",
       "      <td> 0.072244</td>\n",
       "      <td> 0.072477</td>\n",
       "      <td> 0.077666</td>\n",
       "    </tr>\n",
       "    <tr>\n",
       "      <th>Unknown</th>\n",
       "      <td> 0.159713</td>\n",
       "      <td> 0.158540</td>\n",
       "      <td> 0.166043</td>\n",
       "      <td> 0.153786</td>\n",
       "      <td> 0.154560</td>\n",
       "    </tr>\n",
       "    <tr>\n",
       "      <th>White</th>\n",
       "      <td> 0.718344</td>\n",
       "      <td> 0.719096</td>\n",
       "      <td> 0.713189</td>\n",
       "      <td> 0.730355</td>\n",
       "      <td> 0.720634</td>\n",
       "    </tr>\n",
       "  </tbody>\n",
       "</table>\n",
       "</div>"
      ],
      "text/plain": [
       "                2         3         4         5         6\n",
       "race                                                     \n",
       "Asian    0.022082  0.020954  0.021949  0.019873  0.019706\n",
       "Black    0.025971  0.025435  0.026575  0.023510  0.027434\n",
       "Other    0.073891  0.075975  0.072244  0.072477  0.077666\n",
       "Unknown  0.159713  0.158540  0.166043  0.153786  0.154560\n",
       "White    0.718344  0.719096  0.713189  0.730355  0.720634"
      ]
     },
     "execution_count": 83,
     "metadata": {},
     "output_type": "execute_result"
    }
   ],
   "source": [
    "pd.crosstab(df.race, df.pga)/df.pga.value_counts()"
   ]
  },
  {
   "cell_type": "code",
   "execution_count": 66,
   "metadata": {
    "collapsed": false
   },
   "outputs": [
    {
     "data": {
      "text/plain": [
       "Never Smoker      25796\n",
       "Former Smoker     12917\n",
       "Unknown            6363\n",
       "Current Smoker     5718\n",
       "dtype: int64"
      ]
     },
     "execution_count": 66,
     "metadata": {},
     "output_type": "execute_result"
    }
   ],
   "source": [
    "df.smoking.value_counts()"
   ]
  },
  {
   "cell_type": "code",
   "execution_count": 82,
   "metadata": {
    "collapsed": false
   },
   "outputs": [
    {
     "data": {
      "text/html": [
       "<div style=\"max-height:1000px;max-width:1500px;overflow:auto;\">\n",
       "<table border=\"1\" class=\"dataframe\">\n",
       "  <thead>\n",
       "    <tr style=\"text-align: right;\">\n",
       "      <th></th>\n",
       "      <th>2</th>\n",
       "      <th>3</th>\n",
       "      <th>4</th>\n",
       "      <th>5</th>\n",
       "      <th>6</th>\n",
       "    </tr>\n",
       "    <tr>\n",
       "      <th>smoking</th>\n",
       "      <th></th>\n",
       "      <th></th>\n",
       "      <th></th>\n",
       "      <th></th>\n",
       "      <th></th>\n",
       "    </tr>\n",
       "  </thead>\n",
       "  <tbody>\n",
       "    <tr>\n",
       "      <th>Current Smoker</th>\n",
       "      <td> 0.111529</td>\n",
       "      <td> 0.112612</td>\n",
       "      <td> 0.111220</td>\n",
       "      <td> 0.114041</td>\n",
       "      <td> 0.119397</td>\n",
       "    </tr>\n",
       "    <tr>\n",
       "      <th>Former Smoker</th>\n",
       "      <td> 0.247841</td>\n",
       "      <td> 0.256062</td>\n",
       "      <td> 0.257972</td>\n",
       "      <td> 0.257696</td>\n",
       "      <td> 0.257342</td>\n",
       "    </tr>\n",
       "    <tr>\n",
       "      <th>Never Smoker</th>\n",
       "      <td> 0.518160</td>\n",
       "      <td> 0.500725</td>\n",
       "      <td> 0.504724</td>\n",
       "      <td> 0.505780</td>\n",
       "      <td> 0.507728</td>\n",
       "    </tr>\n",
       "    <tr>\n",
       "      <th>Unknown</th>\n",
       "      <td> 0.122471</td>\n",
       "      <td> 0.130601</td>\n",
       "      <td> 0.126083</td>\n",
       "      <td> 0.122483</td>\n",
       "      <td> 0.115533</td>\n",
       "    </tr>\n",
       "  </tbody>\n",
       "</table>\n",
       "</div>"
      ],
      "text/plain": [
       "                       2         3         4         5         6\n",
       "smoking                                                         \n",
       "Current Smoker  0.111529  0.112612  0.111220  0.114041  0.119397\n",
       "Former Smoker   0.247841  0.256062  0.257972  0.257696  0.257342\n",
       "Never Smoker    0.518160  0.500725  0.504724  0.505780  0.507728\n",
       "Unknown         0.122471  0.130601  0.126083  0.122483  0.115533"
      ]
     },
     "execution_count": 82,
     "metadata": {},
     "output_type": "execute_result"
    }
   ],
   "source": [
    "pd.crosstab(df.smoking, df.pga)/df.pga.value_counts()"
   ]
  },
  {
   "cell_type": "code",
   "execution_count": 67,
   "metadata": {
    "collapsed": false
   },
   "outputs": [
    {
     "data": {
      "text/plain": [
       "no     43159\n",
       "yes     7635\n",
       "dtype: int64"
      ]
     },
     "execution_count": 67,
     "metadata": {},
     "output_type": "execute_result"
    }
   ],
   "source": [
    "df.famhist.value_counts()"
   ]
  },
  {
   "cell_type": "code",
   "execution_count": 85,
   "metadata": {
    "collapsed": false
   },
   "outputs": [
    {
     "data": {
      "text/html": [
       "<div style=\"max-height:1000px;max-width:1500px;overflow:auto;\">\n",
       "<table border=\"1\" class=\"dataframe\">\n",
       "  <thead>\n",
       "    <tr style=\"text-align: right;\">\n",
       "      <th></th>\n",
       "      <th>2</th>\n",
       "      <th>3</th>\n",
       "      <th>4</th>\n",
       "      <th>5</th>\n",
       "      <th>6</th>\n",
       "    </tr>\n",
       "    <tr>\n",
       "      <th>famhist</th>\n",
       "      <th></th>\n",
       "      <th></th>\n",
       "      <th></th>\n",
       "      <th></th>\n",
       "      <th></th>\n",
       "    </tr>\n",
       "  </thead>\n",
       "  <tbody>\n",
       "    <tr>\n",
       "      <th>no</th>\n",
       "      <td> 0.949904</td>\n",
       "      <td> 0.900764</td>\n",
       "      <td> 0.801969</td>\n",
       "      <td> 0.698922</td>\n",
       "      <td> 0.598532</td>\n",
       "    </tr>\n",
       "    <tr>\n",
       "      <th>yes</th>\n",
       "      <td> 0.050096</td>\n",
       "      <td> 0.099236</td>\n",
       "      <td> 0.198031</td>\n",
       "      <td> 0.301078</td>\n",
       "      <td> 0.401468</td>\n",
       "    </tr>\n",
       "  </tbody>\n",
       "</table>\n",
       "</div>"
      ],
      "text/plain": [
       "                2         3         4         5         6\n",
       "famhist                                                  \n",
       "no       0.949904  0.900764  0.801969  0.698922  0.598532\n",
       "yes      0.050096  0.099236  0.198031  0.301078  0.401468"
      ]
     },
     "execution_count": 85,
     "metadata": {},
     "output_type": "execute_result"
    }
   ],
   "source": [
    "pd.crosstab(df.famhist, df.pga)/df.pga.value_counts()"
   ]
  },
  {
   "cell_type": "code",
   "execution_count": 10,
   "metadata": {
    "collapsed": false
   },
   "outputs": [
    {
     "data": {
      "text/plain": [
       "3    15176\n",
       "2    15171\n",
       "4    10160\n",
       "5     7699\n",
       "6     2588\n",
       "dtype: int64"
      ]
     },
     "execution_count": 10,
     "metadata": {},
     "output_type": "execute_result"
    }
   ],
   "source": [
    "df.pga.value_counts()"
   ]
  },
  {
   "cell_type": "code",
   "execution_count": 69,
   "metadata": {
    "collapsed": false
   },
   "outputs": [],
   "source": [
    "pga2 = df[df.pga==2]\n",
    "pga3 = df[df.pga==3]\n",
    "pga4 = df[df.pga==4]\n",
    "pga5 = df[df.pga==5]\n",
    "pga6 = df[df.pga==5]"
   ]
  },
  {
   "cell_type": "code",
   "execution_count": 71,
   "metadata": {
    "collapsed": false
   },
   "outputs": [
    {
     "data": {
      "text/plain": [
       "<matplotlib.text.Text at 0x1100e90d0>"
      ]
     },
     "execution_count": 71,
     "metadata": {},
     "output_type": "execute_result"
    },
    {
     "data": {
      "image/png": "[encoded data removed]",
      "text/plain": [
       "<matplotlib.figure.Figure at 0x10f9e2150>"
      ]
     },
     "metadata": {},
     "output_type": "display_data"
    }
   ],
   "source": [
    "plt.figure(2)\n",
    "plt.subplot(231)\n",
    "df.bsa.hist()\n",
    "plt.title('Overall')\n",
    "plt.subplot(232)\n",
    "pga2.bsa.hist()\n",
    "plt.title('2')\n",
    "plt.subplot(233)\n",
    "pga3.bsa.hist()\n",
    "plt.title('3')\n",
    "plt.subplot(234)\n",
    "pga4.bsa.hist()\n",
    "plt.title('4')\n",
    "plt.subplot(235)\n",
    "pga5.bsa.hist()\n",
    "plt.title('5')\n",
    "plt.subplot(236)\n",
    "pga6.bsa.hist()\n",
    "plt.title('6')\n"
   ]
  },
  {
   "cell_type": "code",
   "execution_count": null,
   "metadata": {
    "collapsed": true
   },
   "outputs": [],
   "source": []
  }
 ],
 "metadata": {
  "kernelspec": {
   "display_name": "Python 2",
   "language": "python",
   "name": "python2"
  },
  "language_info": {
   "codemirror_mode": {
    "name": "ipython",
    "version": 2
   },
   "file_extension": ".py",
   "mimetype": "text/x-python",
   "name": "python",
   "nbconvert_exporter": "python",
   "pygments_lexer": "ipython2",
   "version": "2.7.9"
  }
 },
 "nbformat": 4,
 "nbformat_minor": 0
}
