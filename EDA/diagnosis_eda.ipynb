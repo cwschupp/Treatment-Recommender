{
 "cells": [
  {
   "cell_type": "code",
   "execution_count": 2,
   "metadata": {
    "collapsed": true
   },
   "outputs": [],
   "source": [
    "import pandas as pd"
   ]
  },
  {
   "cell_type": "code",
   "execution_count": 3,
   "metadata": {
    "collapsed": false
   },
   "outputs": [],
   "source": [
    "df = pd.read_csv('/Users/clayton.schupp/cwschupp/project/data/tmp/diagnosis.tsv', sep='\\t')"
   ]
  },
  {
   "cell_type": "code",
   "execution_count": 4,
   "metadata": {
    "collapsed": false
   },
   "outputs": [
    {
     "data": {
      "text/plain": [
       "Index([u'diagnosis_id', u'patient_id', u'visit_id', u'visit_date', u'diagnosis_status', u'is_new', u'is_ruleout', u'position', u'is_existing_with_new_problem', u'complexity_level', u'default_weight', u'diagnosis_name', u'diagnosis_type', u'follow_up_unit', u'follow_up_value', u'label_text', u'icd9', u'icd10', u'exam_finding', u'medical_domain', u'special_diagnosis_type', u'visible', u'pod'], dtype='object')"
      ]
     },
     "execution_count": 4,
     "metadata": {},
     "output_type": "execute_result"
    }
   ],
   "source": [
    "df.columns"
   ]
  },
  {
   "cell_type": "code",
   "execution_count": 23,
   "metadata": {
    "collapsed": false
   },
   "outputs": [
    {
     "data": {
      "text/plain": [
       "diagnosis_id                                31522399\n",
       "patient_id                              1.254223e+07\n",
       "visit_id                                1.332239e+07\n",
       "visit_date                       2014-02-24 12:00:00\n",
       "diagnosis_status                                 NaN\n",
       "is_new                                         False\n",
       "is_ruleout                                     False\n",
       "position                                         NaN\n",
       "is_existing_with_new_problem                   False\n",
       "complexity_level                              simple\n",
       "default_weight                                     0\n",
       "diagnosis_name                  Seborrheic Keratoses\n",
       "diagnosis_type                              neoplasm\n",
       "follow_up_unit                                   NaN\n",
       "follow_up_value                                    0\n",
       "label_text                                       SKs\n",
       "icd9                                          702.19\n",
       "icd10                                          L82.1\n",
       "exam_finding                                    True\n",
       "medical_domain                           DERMATOLOGY\n",
       "special_diagnosis_type                           NaN\n",
       "visible                                         True\n",
       "pod                                        pod05_ema\n",
       "Name: 0, dtype: object"
      ]
     },
     "execution_count": 23,
     "metadata": {},
     "output_type": "execute_result"
    }
   ],
   "source": [
    "df.ix[0,]"
   ]
  },
  {
   "cell_type": "code",
   "execution_count": 6,
   "metadata": {
    "collapsed": false
   },
   "outputs": [
    {
     "name": "stdout",
     "output_type": "stream",
     "text": [
      "<class 'pandas.core.frame.DataFrame'>\n",
      "Int64Index: 100000 entries, 0 to 99999\n",
      "Data columns (total 23 columns):\n",
      "diagnosis_id                    100000 non-null int64\n",
      "patient_id                      99171 non-null float64\n",
      "visit_id                        99171 non-null float64\n",
      "visit_date                      99171 non-null object\n",
      "diagnosis_status                6358 non-null object\n",
      "is_new                          100000 non-null bool\n",
      "is_ruleout                      100000 non-null bool\n",
      "position                        0 non-null float64\n",
      "is_existing_with_new_problem    94497 non-null object\n",
      "complexity_level                99616 non-null object\n",
      "default_weight                  100000 non-null int64\n",
      "diagnosis_name                  100000 non-null object\n",
      "diagnosis_type                  100000 non-null object\n",
      "follow_up_unit                  30366 non-null object\n",
      "follow_up_value                 100000 non-null int64\n",
      "label_text                      99917 non-null object\n",
      "icd9                            99739 non-null object\n",
      "icd10                           92099 non-null object\n",
      "exam_finding                    100000 non-null bool\n",
      "medical_domain                  100000 non-null object\n",
      "special_diagnosis_type          213 non-null object\n",
      "visible                         100000 non-null bool\n",
      "pod                             100000 non-null object\n",
      "dtypes: bool(4), float64(3), int64(3), object(13)"
     ]
    }
   ],
   "source": [
    "df.info()"
   ]
  },
  {
   "cell_type": "code",
   "execution_count": null,
   "metadata": {
    "collapsed": true
   },
   "outputs": [],
   "source": []
  },
  {
   "cell_type": "code",
   "execution_count": null,
   "metadata": {
    "collapsed": true
   },
   "outputs": [],
   "source": []
  },
  {
   "cell_type": "code",
   "execution_count": null,
   "metadata": {
    "collapsed": true
   },
   "outputs": [],
   "source": []
  },
  {
   "cell_type": "code",
   "execution_count": null,
   "metadata": {
    "collapsed": true
   },
   "outputs": [],
   "source": []
  },
  {
   "cell_type": "code",
   "execution_count": null,
   "metadata": {
    "collapsed": true
   },
   "outputs": [],
   "source": []
  }
 ],
 "metadata": {
  "kernelspec": {
   "display_name": "Python 2",
   "language": "python",
   "name": "python2"
  },
  "language_info": {
   "codemirror_mode": {
    "name": "ipython",
    "version": 2
   },
   "file_extension": ".py",
   "mimetype": "text/x-python",
   "name": "python",
   "nbconvert_exporter": "python",
   "pygments_lexer": "ipython2",
   "version": "2.7.9"
  }
 },
 "nbformat": 4,
 "nbformat_minor": 0
}
