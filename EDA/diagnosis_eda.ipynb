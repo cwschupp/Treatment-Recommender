{
 "cells": [
  {
   "cell_type": "code",
   "execution_count": 13,
   "metadata": {
    "collapsed": true
   },
   "outputs": [],
   "source": [
    "import pandas as pd"
   ]
  },
  {
   "cell_type": "code",
   "execution_count": 14,
   "metadata": {
    "collapsed": false
   },
   "outputs": [],
   "source": [
    "df = pd.read_csv('/Users/clayton.schupp/cwschupp/project/data/tmp/diagnosis.tsv', sep='\\t')"
   ]
  },
  {
   "cell_type": "code",
   "execution_count": 15,
   "metadata": {
    "collapsed": false
   },
   "outputs": [
    {
     "data": {
      "text/plain": [
       "Index([u'diagnosis_id', u'patient_id', u'visit_id', u'visit_date', u'diagnosis_status', u'is_new', u'is_ruleout', u'position', u'is_existing_with_new_problem', u'complexity_level', u'default_weight', u'diagnosis_name', u'diagnosis_type', u'follow_up_unit', u'follow_up_value', u'label_text', u'icd9', u'icd10', u'exam_finding', u'medical_domain', u'special_diagnosis_type', u'visible', u'pod'], dtype='object')"
      ]
     },
     "execution_count": 15,
     "metadata": {},
     "output_type": "execute_result"
    }
   ],
   "source": [
    "df.columns"
   ]
  },
  {
   "cell_type": "code",
   "execution_count": 16,
   "metadata": {
    "collapsed": false
   },
   "outputs": [
    {
     "data": {
      "text/plain": [
       "array(['neoplasm', 'infection', 'rash', 'v-codes', 'pruritus',\n",
       "       'hair-nail-mucosa', 'descriptive', 'pediatric', 'retina',\n",
       "       'refractive', 'external', 'lens', 'glaucoma', 'autoimmune', 'knee',\n",
       "       'icd10', 'misc', 'surgery', 'genoderm', 'cosmetic', 'cornea',\n",
       "       'postop', 'uveitis', 'ankle', 'wound care', 'trauma', 'orbit',\n",
       "       'allergy', 'cosmetic abdomen', 'foot', 'breast', 'neuro', 'hand',\n",
       "       'wrist', 'spine', 'dermatology - pediatric', 'eyes', 'shoulder',\n",
       "       'nerve', 'cosmetic face', 'cosmetic breast', 'hip', 'clavicle',\n",
       "       'joint', 'ribs', 'complications', 'cosmetic eyes', 'trunk',\n",
       "       'cosmetic ent', 'v-code', 'psych', 'pelvis', 'elbow', 'lowerleg',\n",
       "       'upperarm', 'tumor-metabolic'], dtype=object)"
      ]
     },
     "execution_count": 16,
     "metadata": {},
     "output_type": "execute_result"
    }
   ],
   "source": [
    "df.diagnosis_type.unique()"
   ]
  },
  {
   "cell_type": "code",
   "execution_count": 17,
   "metadata": {
    "collapsed": false
   },
   "outputs": [
    {
     "data": {
      "text/html": [
       "<div style=\"max-height:1000px;max-width:1500px;overflow:auto;\">\n",
       "<table border=\"1\" class=\"dataframe\">\n",
       "  <thead>\n",
       "    <tr style=\"text-align: right;\">\n",
       "      <th></th>\n",
       "      <th>diagnosis_id</th>\n",
       "      <th>patient_id</th>\n",
       "      <th>visit_id</th>\n",
       "      <th>visit_date</th>\n",
       "      <th>diagnosis_status</th>\n",
       "      <th>is_new</th>\n",
       "      <th>is_ruleout</th>\n",
       "      <th>position</th>\n",
       "      <th>is_existing_with_new_problem</th>\n",
       "      <th>complexity_level</th>\n",
       "      <th>...</th>\n",
       "      <th>follow_up_unit</th>\n",
       "      <th>follow_up_value</th>\n",
       "      <th>label_text</th>\n",
       "      <th>icd9</th>\n",
       "      <th>icd10</th>\n",
       "      <th>exam_finding</th>\n",
       "      <th>medical_domain</th>\n",
       "      <th>special_diagnosis_type</th>\n",
       "      <th>visible</th>\n",
       "      <th>pod</th>\n",
       "    </tr>\n",
       "  </thead>\n",
       "  <tbody>\n",
       "    <tr>\n",
       "      <th>20792</th>\n",
       "      <td> 33722387</td>\n",
       "      <td> 17781776</td>\n",
       "      <td> 14034173</td>\n",
       "      <td> 2014-11-10 12:00:00</td>\n",
       "      <td> NaN</td>\n",
       "      <td> False</td>\n",
       "      <td> False</td>\n",
       "      <td>NaN</td>\n",
       "      <td> False</td>\n",
       "      <td> complex</td>\n",
       "      <td>...</td>\n",
       "      <td> month</td>\n",
       "      <td> 3</td>\n",
       "      <td>               CM</td>\n",
       "      <td> 757.32</td>\n",
       "      <td> Q82.5</td>\n",
       "      <td> False</td>\n",
       "      <td> PLASTICS</td>\n",
       "      <td> NaN</td>\n",
       "      <td> True</td>\n",
       "      <td> pod02_ema</td>\n",
       "    </tr>\n",
       "    <tr>\n",
       "      <th>21409</th>\n",
       "      <td> 32639700</td>\n",
       "      <td> 19475239</td>\n",
       "      <td> 13642241</td>\n",
       "      <td> 2014-09-22 12:00:00</td>\n",
       "      <td> NaN</td>\n",
       "      <td> False</td>\n",
       "      <td> False</td>\n",
       "      <td>NaN</td>\n",
       "      <td> False</td>\n",
       "      <td>  simple</td>\n",
       "      <td>...</td>\n",
       "      <td> month</td>\n",
       "      <td> 3</td>\n",
       "      <td> Congenital nevus</td>\n",
       "      <td>  216.X</td>\n",
       "      <td>   D22</td>\n",
       "      <td> False</td>\n",
       "      <td> PLASTICS</td>\n",
       "      <td> NaN</td>\n",
       "      <td> True</td>\n",
       "      <td> pod02_ema</td>\n",
       "    </tr>\n",
       "    <tr>\n",
       "      <th>30658</th>\n",
       "      <td> 32639857</td>\n",
       "      <td> 19475239</td>\n",
       "      <td> 13642241</td>\n",
       "      <td> 2014-09-22 12:00:00</td>\n",
       "      <td> NaN</td>\n",
       "      <td> False</td>\n",
       "      <td> False</td>\n",
       "      <td>NaN</td>\n",
       "      <td> False</td>\n",
       "      <td>  simple</td>\n",
       "      <td>...</td>\n",
       "      <td> month</td>\n",
       "      <td> 3</td>\n",
       "      <td>     N. sebaceous</td>\n",
       "      <td>  702.8</td>\n",
       "      <td> Q82.5</td>\n",
       "      <td> False</td>\n",
       "      <td> PLASTICS</td>\n",
       "      <td> NaN</td>\n",
       "      <td> True</td>\n",
       "      <td> pod02_ema</td>\n",
       "    </tr>\n",
       "  </tbody>\n",
       "</table>\n",
       "<p>3 rows × 23 columns</p>\n",
       "</div>"
      ],
      "text/plain": [
       "       diagnosis_id  patient_id  visit_id           visit_date  \\\n",
       "20792      33722387    17781776  14034173  2014-11-10 12:00:00   \n",
       "21409      32639700    19475239  13642241  2014-09-22 12:00:00   \n",
       "30658      32639857    19475239  13642241  2014-09-22 12:00:00   \n",
       "\n",
       "      diagnosis_status is_new is_ruleout  position  \\\n",
       "20792              NaN  False      False       NaN   \n",
       "21409              NaN  False      False       NaN   \n",
       "30658              NaN  False      False       NaN   \n",
       "\n",
       "      is_existing_with_new_problem complexity_level       ...         \\\n",
       "20792                        False          complex       ...          \n",
       "21409                        False           simple       ...          \n",
       "30658                        False           simple       ...          \n",
       "\n",
       "       follow_up_unit follow_up_value        label_text    icd9  icd10  \\\n",
       "20792           month               3                CM  757.32  Q82.5   \n",
       "21409           month               3  Congenital nevus   216.X    D22   \n",
       "30658           month               3      N. sebaceous   702.8  Q82.5   \n",
       "\n",
       "      exam_finding medical_domain special_diagnosis_type visible        pod  \n",
       "20792        False       PLASTICS                    NaN    True  pod02_ema  \n",
       "21409        False       PLASTICS                    NaN    True  pod02_ema  \n",
       "30658        False       PLASTICS                    NaN    True  pod02_ema  \n",
       "\n",
       "[3 rows x 23 columns]"
      ]
     },
     "execution_count": 17,
     "metadata": {},
     "output_type": "execute_result"
    }
   ],
   "source": [
    "df[df.diagnosis_type == 'dermatology - pediatric']"
   ]
  },
  {
   "cell_type": "code",
   "execution_count": null,
   "metadata": {
    "collapsed": true
   },
   "outputs": [],
   "source": []
  }
 ],
 "metadata": {
  "kernelspec": {
   "display_name": "Python 2",
   "language": "python",
   "name": "python2"
  },
  "language_info": {
   "codemirror_mode": {
    "name": "ipython",
    "version": 2
   },
   "file_extension": ".py",
   "mimetype": "text/x-python",
   "name": "python",
   "nbconvert_exporter": "python",
   "pygments_lexer": "ipython2",
   "version": "2.7.9"
  }
 },
 "nbformat": 4,
 "nbformat_minor": 0
}
