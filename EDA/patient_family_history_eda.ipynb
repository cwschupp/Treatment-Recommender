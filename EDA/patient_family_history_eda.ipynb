{
 "cells": [
  {
   "cell_type": "code",
   "execution_count": 2,
   "metadata": {
    "collapsed": true
   },
   "outputs": [],
   "source": [
    "import pandas as pd"
   ]
  },
  {
   "cell_type": "code",
   "execution_count": 3,
   "metadata": {
    "collapsed": false
   },
   "outputs": [],
   "source": [
    "df = pd.read_csv('/Users/clayton.schupp/cwschupp/project/data/tmp/diagnosis_morphology.tsv', sep='\\t')"
   ]
  },
  {
   "cell_type": "code",
   "execution_count": 3,
   "metadata": {
    "collapsed": false
   },
   "outputs": [
    {
     "data": {
      "text/plain": [
       "Index([u'chart_note_id', u'patient_id', u'staff_id', u'visit_id', u'firm_id', u'note_created_date', u'finalized_date', u'note_status', u'note_type', u'communication_method', u'patient_visible', u'patient_account_expired', u'date_sent', u'pod'], dtype='object')"
      ]
     },
     "execution_count": 3,
     "metadata": {},
     "output_type": "execute_result"
    }
   ],
   "source": [
    "df.columns"
   ]
  },
  {
   "cell_type": "code",
   "execution_count": 4,
   "metadata": {
    "collapsed": false
   },
   "outputs": [
    {
     "data": {
      "text/plain": [
       "0     COMMUNICATION\n",
       "1             VISIT\n",
       "2             VISIT\n",
       "3             VISIT\n",
       "4             VISIT\n",
       "5             VISIT\n",
       "6             VISIT\n",
       "7             VISIT\n",
       "8           RESULTS\n",
       "9             VISIT\n",
       "10            VISIT\n",
       "11            VISIT\n",
       "12            VISIT\n",
       "13            VISIT\n",
       "14            VISIT\n",
       "...\n",
       "99985            VISIT\n",
       "99986            VISIT\n",
       "99987            VISIT\n",
       "99988    COMMUNICATION\n",
       "99989            VISIT\n",
       "99990            VISIT\n",
       "99991          RESULTS\n",
       "99992            VISIT\n",
       "99993            VISIT\n",
       "99994            VISIT\n",
       "99995            VISIT\n",
       "99996            VISIT\n",
       "99997    COMMUNICATION\n",
       "99998            VISIT\n",
       "99999            VISIT\n",
       "Name: note_type, Length: 100000, dtype: object"
      ]
     },
     "execution_count": 4,
     "metadata": {},
     "output_type": "execute_result"
    }
   ],
   "source": [
    "df.note_type"
   ]
  },
  {
   "cell_type": "code",
   "execution_count": null,
   "metadata": {
    "collapsed": true
   },
   "outputs": [],
   "source": []
  }
 ],
 "metadata": {
  "kernelspec": {
   "display_name": "Python 2",
   "language": "python",
   "name": "python2"
  },
  "language_info": {
   "codemirror_mode": {
    "name": "ipython",
    "version": 2
   },
   "file_extension": ".py",
   "mimetype": "text/x-python",
   "name": "python",
   "nbconvert_exporter": "python",
   "pygments_lexer": "ipython2",
   "version": "2.7.9"
  }
 },
 "nbformat": 4,
 "nbformat_minor": 0
}
